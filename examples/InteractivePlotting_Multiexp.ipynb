{
 "cells": [
  {
   "cell_type": "markdown",
   "metadata": {},
   "source": [
    "Import required modules:"
   ]
  },
  {
   "cell_type": "code",
   "execution_count": 1,
   "metadata": {},
   "outputs": [],
   "source": [
    "\"\"\"\n",
    "Interactive system simulation using ipywidgets package.\n",
    "Visualization functions used in this program are in the TRPL.sim.vizfuncs module.\n",
    "@author: Natalia Spitha\n",
    "\"\"\"\n",
    "import os\n",
    "import numpy as np\n",
    "\n",
    "from KinetiKit import sim, data\n",
    "from KinetiKit import artists as art\n",
    "from KinetiKit import kit as kin_kit\n",
    "from KinetiKit.units import units, ps, ns\n",
    "\n",
    "from ipywidgets import interact, fixed"
   ]
  },
  {
   "cell_type": "markdown",
   "metadata": {},
   "source": [
    "## Import Data\n",
    "Recommended instructions: \n",
    "<br>\n",
    "- Define time parameters in the time object to (see KinetiKit.sim.time for more information)\n",
    "- Set the path directory _dir_path_ to a general folder where your files are located.\n",
    "- Define the file names (including extension) and, if necessary, other subfolders that determine _file_path_.\n",
    "- Define power unit and a list of powers of equal length to the list of file names. See TRPL.units for list of units.\n",
    "- Ensure your files are imported correctly (check _data_from_SPCM_ in TRPL.data.lib)\n",
    "<br> <br>\n",
    "Optional: \n",
    "- Define directory for file containing dark counts (_dark_path_)\n",
    "- Un-comment _do.dark_subtract, do.smooth,_ and _do.remove_zeros()_ if you want to apply those functions."
   ]
  },
  {
   "cell_type": "code",
   "execution_count": 2,
   "metadata": {},
   "outputs": [],
   "source": [
    "N_timepoints = 1000\n",
    "to = sim.time.linear(N=N_timepoints, period = 12.5*ns, subsample=1)\n",
    "dtime = to['array'][::to['subsample']]\n",
    "\n",
    "#--- Creating Data Object(s)\n",
    "all_data = []; keys = []\n",
    "dir_path = os.getcwd()\n",
    "#dir_path = r'C:\\...'\n",
    "dark_path = os.path.join(dir_path, 'ex_data', 'dark.asc')\n",
    "\n",
    "filenames = [r'low_power.asc', r'mid_power.asc', r'high_power.asc',]\n",
    "\n",
    "all_y = np.zeros((len(filenames), len(dtime))) # y data will eventually be appended to this list\n",
    "power_unit = 'μW'\n",
    "powers = [0.045, 0.420, 1.015] # excitation powers in defined unit\n",
    "\n",
    "for i, filename in enumerate(filenames):\n",
    "    subfolder = filename.split('_')[0] # using information from the file name to determine which folder it's in\n",
    "    file_path = os.path.join(dir_path, 'ex_data', subfolder, filename)\n",
    "    do = data.lib.data_from_SPCM(file_path, skip_h=354, skip_f=884, metadata=True)\n",
    "    do.interp(dtime)\n",
    "    all_y[i] = do.y\n",
    "\n",
    "aligned_data = kin_kit.align_by_steep(all_y, dtime, value = 0.5*ns, avgnum=5)"
   ]
  },
  {
   "cell_type": "markdown",
   "metadata": {},
   "source": [
    "## Define system and parameters\n",
    "Instructions: \n",
    "<br>\n",
    "- Select your system: _system = sim.systems.YourSystem()_\n",
    "- Select whether simulations will use the _powers_ defined above (slidepower=False), or a power slider (slidepower=True)\n",
    "- Define parameters as a dictionary, where the \"values\" are actually widget objects. You can customize the values, limits, step sizes, etc. for each slider object. <font color=red> Note: the interactive visualization function currently accepts up to 20 model parameters. </font>\n",
    "<br> <br>\n",
    "Optional: \n",
    "- If _slidepower_ is True, customize the power widget; see TRPL.sim.vizfuncs.powerwidget for details."
   ]
  },
  {
   "cell_type": "code",
   "execution_count": 3,
   "metadata": {},
   "outputs": [],
   "source": [
    "system = sim.systems.Biexp()\n",
    "\n",
    "slidepower = False # select whether to have a slider controlling power\n",
    "\n",
    "# Define all the parameters of the system chosen. \n",
    "# You can call the function system.params() on a cell below to quickly check which parameters are needed.\n",
    "\n",
    "parameters = {\n",
    "    \n",
    "    'A1' : sim.vizfuncs.makeWidget('A1', val=0.5, slider='linear', min_val=0, max_val=1),\n",
    "                  \n",
    "    'tau1' : sim.vizfuncs.makeWidget('tau1', val=1.4e-9, slider='log', min_val=1e-10, max_val=1e-6),\n",
    "    \n",
    "    'tau2' : sim.vizfuncs.makeWidget('tau2', val=1e-7, slider='log', min_val=1e-10, max_val=1e-6),\n",
    "    \n",
    "    'offset' : sim.vizfuncs.makeWidget('offset', val=0.5, slider='linear', min_val=0, max_val=1),\n",
    "    \n",
    "        }\n",
    "\n",
    "active_widgets = sim.vizfuncs.active_widgets(system, parameters)\n",
    "\n",
    "w1, w2, w3, w4, w5, w6, w7, w8, w9, w10,\\\n",
    "w11, w12, w13, w14, w15, w16, w17, w18, w19, w20 = active_widgets # 20 widgets are needed as input to the Viz function, \n",
    "                                                                  # but only the active widgets will be used\n",
    "\n",
    "powerwidget = sim.vizfuncs.powerwidget(slidepower=slidepower, unit=power_unit)"
   ]
  },
  {
   "cell_type": "markdown",
   "metadata": {},
   "source": [
    "## Interactive Plot\n",
    "<br>\n",
    "Your interactive plot is ready (hopefully!)\n",
    "<br>\n",
    "Optional instructions:\n",
    "- Adjust other arguments accepted by the MonoViz function, such as N_coarse. \n",
    "<br>\n",
    "If the message \"Array does not contain positive values!\" appears, it is likely that your parameter is too fast for the chosen step size. You can increase N_coarse, as well as the N argument of the time object in the data import cell, to account for faster processes."
   ]
  },
  {
   "cell_type": "code",
   "execution_count": 4,
   "metadata": {},
   "outputs": [
    {
     "name": "stdout",
     "output_type": "stream",
     "text": [
      "Biexp simulation:\n"
     ]
    },
    {
     "data": {
      "application/vnd.jupyter.widget-view+json": {
       "model_id": "7897b46be5ea479bbcb731d402d74b3a",
       "version_major": 2,
       "version_minor": 0
      },
      "text/plain": [
       "interactive(children=(FloatSlider(value=0.5, continuous_update=False, description='A1', max=1.0, step=0.01), F…"
      ]
     },
     "metadata": {},
     "output_type": "display_data"
    }
   ],
   "source": [
    "print('%s simulation:'%system.name)\n",
    "GenWidget = interact(sim.vizfuncs.FuncViz,\n",
    "                     system = fixed(system),\n",
    "                     p1=w1, p2=w2, p3=w3, p4=w4, p5=w5, p6=w6, p7=w7, p8=w8, p9=w9, p10=w10,\n",
    "                     p11=w11, p12=w12, p13=w13, p14=w14, p15=w15, p16=w16, p17=w17, p18=w18,\n",
    "                     p19=w19, p20=w20,\n",
    "                     to=fixed(to),\n",
    "                     N_coarse = fixed(N_timepoints),\n",
    "                     power = powerwidget,\n",
    "                     data=fixed(aligned_data),\n",
    "                     power_list = fixed(powers),\n",
    "                     power_unit = fixed(power_unit),\n",
    "                     align_by = fixed('steep'),\n",
    "                     avgnum = fixed(5),\n",
    "                     slidepower=fixed(slidepower)\n",
    "                     )"
   ]
  },
  {
   "cell_type": "code",
   "execution_count": null,
   "metadata": {},
   "outputs": [],
   "source": []
  }
 ],
 "metadata": {
  "kernelspec": {
   "display_name": "Python 3",
   "language": "python",
   "name": "python3"
  },
  "language_info": {
   "codemirror_mode": {
    "name": "ipython",
    "version": 3
   },
   "file_extension": ".py",
   "mimetype": "text/x-python",
   "name": "python",
   "nbconvert_exporter": "python",
   "pygments_lexer": "ipython3",
   "version": "3.6.5"
  }
 },
 "nbformat": 4,
 "nbformat_minor": 2
}
