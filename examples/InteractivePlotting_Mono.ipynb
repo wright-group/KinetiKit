{
 "cells": [
  {
   "cell_type": "markdown",
   "metadata": {},
   "source": [
    "Import required modules:"
   ]
  },
  {
   "cell_type": "code",
   "execution_count": 1,
   "metadata": {},
   "outputs": [],
   "source": [
    "\"\"\"\n",
    "Interactive system simulation using ipywidgets package.\n",
    "Visualization functions used in this program are in the TRPL.sim.vizfuncs module.\n",
    "@author: Natalia Spitha\n",
    "\"\"\"\n",
    "import os\n",
    "import numpy as np\n",
    "\n",
    "from KinetiKit import sim, data\n",
    "from KinetiKit import artists as art\n",
    "from KinetiKit import kit as kin_kit\n",
    "from KinetiKit.units import units, ps, ns\n",
    "\n",
    "from ipywidgets import interact, fixed"
   ]
  },
  {
   "cell_type": "markdown",
   "metadata": {},
   "source": [
    "## Import Data\n",
    "Recommended instructions: \n",
    "<br>\n",
    "- Define time parameters in the time object to (see TRPL.sim.time for more information)\n",
    "- Set the path directory _dir_path_ to a general folder where your files are located.\n",
    "- Define the file names (including extension) and, if necessary, other subfolders that determine _file_path_.\n",
    "- Define power unit and a list of powers of equal length to the list of file names. See TRPL.units for list of units.\n",
    "- Ensure your files are imported correctly (check _data_from_SPCM_ in TRPL.data.lib)\n",
    "<br> <br>\n",
    "Optional: \n",
    "- Define directory for file containing dark counts (_dark_path_)\n",
    "- Un-comment _do.dark_subtract, do.smooth,_ and _do.remove_zeros()_ if you want to apply those functions."
   ]
  },
  {
   "cell_type": "code",
   "execution_count": 2,
   "metadata": {},
   "outputs": [],
   "source": [
    "N_timepoints = 10**4\n",
    "to = sim.time.linear(N=N_timepoints, period = 12.5 *ns, subsample=1)\n",
    "dtime = to['array'][::to['subsample']]\n",
    "\n",
    "#--- Creating Data Object(s)\n",
    "all_data = []; keys = []\n",
    "dir_path = os.getcwd()\n",
    "#dir_path = r'C:\\...'\n",
    "dark_path = os.path.join(dir_path, 'ex_data', 'dark.asc')\n",
    "\n",
    "filenames = [r'low_power.asc', r'mid_power.asc', r'high_power.asc',]\n",
    "\n",
    "all_y = np.zeros((len(filenames), len(dtime))) # y data will eventually be appended to this list\n",
    "power_unit = 'μW'\n",
    "powers = [0.045, 0.420, 1.015] # excitation powers in defined unit\n",
    "\n",
    "for i, filename in enumerate(filenames):\n",
    "    subfolder = filename.split('_')[0] # using information from the file name to determine which folder it's in\n",
    "    file_path = os.path.join(dir_path, 'ex_data', subfolder, filename)\n",
    "    do = data.lib.data_from_SPCM(file_path, skip_h=354, skip_f=884, metadata=True)\n",
    "    dark = data.lib.data_from_SPCM(dark_path, skip_h=354, skip_f=884, metadata=True)\n",
    "    #do.dark_subtract(dark)\n",
    "    do.interp(dtime)\n",
    "    #do.smooth(window_length=21)\n",
    "    #do.remove_zeros()\n",
    "    all_y[i] = do.y\n",
    "\n",
    "aligned_data = kin_kit.align_by_steep(all_y, dtime, value = 0.5*ns, avgnum=5)"
   ]
  },
  {
   "cell_type": "markdown",
   "metadata": {},
   "source": [
    "## Define system and parameters\n",
    "Instructions: \n",
    "<br>\n",
    "- Select your system: _system = sim.systems.YourSystem()_\n",
    "- Select whether simulations will use the _powers_ defined above (slidepower=False), or a power slider (slidepower=True)\n",
    "- Define parameters as a dictionary, where the \"values\" are actually widget objects. You can customize the values, limits, step sizes, etc. for each slider object. <font color=red> Note: the interactive visualization function currently accepts up to 20 model parameters. </font>\n",
    "<br> <br>\n",
    "Optional: \n",
    "- If _slidepower_ is True, customize the power widget; see TRPL.sim.vizfuncs.powerwidget for details."
   ]
  },
  {
   "cell_type": "code",
   "execution_count": 3,
   "metadata": {},
   "outputs": [
    {
     "output_type": "stream",
     "name": "stdout",
     "text": [
      "[FloatLogSlider(value=1500000000.0, continuous_update=False, description='k_ann', max=10.698970004336019, min=8.0, readout_format='0.3e', step=0.01), FloatLogSlider(value=140000000000.0, continuous_update=False, description='k_dis', max=12.0, min=10.0, readout_format='0.3e', step=0.01), FloatLogSlider(value=10000000.0, continuous_update=False, description='k_rec', max=10.0, min=1.0, readout_format='0.3e', step=0.01), FloatSlider(value=0.5, continuous_update=False, description='cs', disabled=True, max=1.0, readout_format='.1f', step=0.01), <ipywidgets.widgets.interaction.fixed object at 0x0000021D62D7D748>, <ipywidgets.widgets.interaction.fixed object at 0x0000021D62D7DF08>, <ipywidgets.widgets.interaction.fixed object at 0x0000021D62D7D508>, <ipywidgets.widgets.interaction.fixed object at 0x0000021D62D7D8C8>, <ipywidgets.widgets.interaction.fixed object at 0x0000021D62D7DC88>, <ipywidgets.widgets.interaction.fixed object at 0x0000021D62D7DD08>, <ipywidgets.widgets.interaction.fixed object at 0x0000021D62D7DDC8>, <ipywidgets.widgets.interaction.fixed object at 0x0000021D62D7DE88>, <ipywidgets.widgets.interaction.fixed object at 0x0000021D62D7DF88>, <ipywidgets.widgets.interaction.fixed object at 0x0000021D62D7DC08>, <ipywidgets.widgets.interaction.fixed object at 0x0000021D62D7DA08>, <ipywidgets.widgets.interaction.fixed object at 0x0000021D62D7D348>, <ipywidgets.widgets.interaction.fixed object at 0x0000021D62D7D448>, <ipywidgets.widgets.interaction.fixed object at 0x0000021D62D7D9C8>, <ipywidgets.widgets.interaction.fixed object at 0x0000021D5F9F8748>, <ipywidgets.widgets.interaction.fixed object at 0x0000021D5F9F80C8>]\n"
     ]
    }
   ],
   "source": [
    "system = sim.systems.MonoRecX()\n",
    "\n",
    "slidepower = False # select whether to have a slider controlling power\n",
    "\n",
    "# Define all the parameters of the system chosen. \n",
    "# You can call the function system.params() on a cell below to quickly check which parameters are needed.\n",
    "\n",
    "parameters = {\n",
    "    \n",
    "    'k_ann' : sim.vizfuncs.makeWidget('k_ann', val=1.5e9, slider='log', min_val=1e8, max_val=5e10),\n",
    "                  \n",
    "    'k_dis' : sim.vizfuncs.makeWidget('k_dis', val=1.4e11, slider='log', min_val=1e10, max_val=1e12),\n",
    "    \n",
    "    'k_rec' : sim.vizfuncs.makeWidget('k_rec', val=1e7, slider='log', min_val=1e1, max_val=1e10),\n",
    "    \n",
    "    # 'k_trx' : sim.vizfuncs.makeWidget('k_trx', val=0, slider='linear', min_val=0, max_val=1e8),\n",
    "    \n",
    "    # 'k_eth' : sim.vizfuncs.makeWidget('k_eth', val=0, slider='linear', min_val=0., max_val=1e6),\n",
    "    \n",
    "    # 'N_trp' : sim.vizfuncs.makeWidget('N_trp', val=0, slider='linear', min_val=0, max_val=1e6),\n",
    "    \n",
    "    'cs' : sim.vizfuncs.makeWidget('cs', val=0.5, slider='linear', disabled=True, readout=True)\n",
    "    \n",
    "        }\n",
    "\n",
    "active_widgets = sim.vizfuncs.active_widgets(system, parameters)\n",
    "ws = {f\"p{i+1}\": w for i, w in enumerate(active_widgets)}\n",
    "\n",
    "powerwidget = sim.vizfuncs.powerwidget(slidepower=slidepower, unit=power_unit, power=powers[0])"
   ]
  },
  {
   "cell_type": "markdown",
   "metadata": {},
   "source": [
    "## Interactive Plot\n",
    "<br>\n",
    "Your interactive plot is ready (hopefully!)\n",
    "<br>\n",
    "Optional instructions:\n",
    "- Adjust other arguments accepted by the MonoViz function, such as N_coarse. \n",
    "<br>\n",
    "If the message \"Array does not contain positive values!\" appears, it is likely that your parameter is too fast for the chosen step size. You can increase N_coarse, as well as the N argument of the time object in the data import cell, to account for faster processes."
   ]
  },
  {
   "cell_type": "code",
   "execution_count": 4,
   "metadata": {},
   "outputs": [
    {
     "output_type": "stream",
     "name": "stdout",
     "text": [
      "MonoRecX simulation:\n"
     ]
    },
    {
     "output_type": "display_data",
     "data": {
      "text/plain": "interactive(children=(FloatLogSlider(value=1500000000.0, continuous_update=False, description='k_ann', max=10.…",
      "application/vnd.jupyter.widget-view+json": {
       "version_major": 2,
       "version_minor": 0,
       "model_id": "53c64fe047704e098b7766bc059b17c5"
      }
     },
     "metadata": {}
    }
   ],
   "source": [
    "print('%s simulation:'%system.name)\n",
    "GenWidget = interact(sim.vizfuncs.MonoViz,\n",
    "                     system = fixed(system),\n",
    "                     **ws,\n",
    "                     to=fixed(to),\n",
    "                     N_coarse = fixed(N_timepoints),\n",
    "                     power = powerwidget,\n",
    "                     irf_fwhm = fixed(50*ps),\n",
    "                     data=fixed(None),  # fixed(aligned_data),\n",
    "                     power_list = fixed(powers),\n",
    "                     power_unit = fixed(power_unit),\n",
    "                     align_by = fixed('steep'),\n",
    "                     avgnum = fixed(5),\n",
    "                     slidepower=fixed(slidepower),\n",
    "                     xmin = fixed(0.1), xmax=fixed(None), ymin=[1e-5, 1e-4, 1e-3, 1e-2, 1e-1], ymax=fixed(1.25)\n",
    "                     )"
   ]
  },
  {
   "cell_type": "code",
   "execution_count": null,
   "metadata": {},
   "outputs": [],
   "source": []
  }
 ],
 "metadata": {
  "kernelspec": {
   "name": "python374jvsc74a57bd0b85e3deb8aeae140c17e24ac31f2d947aff8a57f4f96ed43af279c342db60479",
   "display_name": "Python 3.7.4 64-bit (conda)"
  },
  "language_info": {
   "codemirror_mode": {
    "name": "ipython",
    "version": 3
   },
   "file_extension": ".py",
   "mimetype": "text/x-python",
   "name": "python",
   "nbconvert_exporter": "python",
   "pygments_lexer": "ipython3",
   "version": "3.7.4"
  }
 },
 "nbformat": 4,
 "nbformat_minor": 2
}